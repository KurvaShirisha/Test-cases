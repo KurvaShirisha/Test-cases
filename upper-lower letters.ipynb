{
 "cells": [
  {
   "cell_type": "code",
   "execution_count": 1,
   "id": "64631cef",
   "metadata": {},
   "outputs": [
    {
     "name": "stdout",
     "output_type": "stream",
     "text": [
      "enter a sentence: I love Python\n",
      "no.of upper case charachers: 2\n",
      "no.of lower case characters: 9\n"
     ]
    }
   ],
   "source": [
    "#write a python function that accepts a string and calculates the number of upper case letters and lower case letters\n",
    "def up_low(s):\n",
    "    upper_c=0\n",
    "    lower_c=0\n",
    "    for c in s:\n",
    "        if c.isupper():\n",
    "            upper_c+=1\n",
    "        elif c.islower():\n",
    "            lower_c+=1\n",
    "    return f\"no.of upper case charachers: {upper_c}\\nno.of lower case characters: {lower_c}\"\n",
    "sample_string=input(\"enter a sentence:\")\n",
    "result = up_low(sample_string)\n",
    "print(result)"
   ]
  }
 ],
 "metadata": {
  "kernelspec": {
   "display_name": "Python 3 (ipykernel)",
   "language": "python",
   "name": "python3"
  },
  "language_info": {
   "codemirror_mode": {
    "name": "ipython",
    "version": 3
   },
   "file_extension": ".py",
   "mimetype": "text/x-python",
   "name": "python",
   "nbconvert_exporter": "python",
   "pygments_lexer": "ipython3",
   "version": "3.11.3"
  }
 },
 "nbformat": 4,
 "nbformat_minor": 5
}
