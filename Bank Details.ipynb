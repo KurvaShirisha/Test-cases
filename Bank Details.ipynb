{
 "cells": [
  {
   "cell_type": "code",
   "execution_count": 2,
   "id": "d30cbf56",
   "metadata": {},
   "outputs": [
    {
     "name": "stdout",
     "output_type": "stream",
     "text": [
      "Welcome to :  PythonBank\n",
      "Enter your nameKing\n",
      "d-Deposite \n",
      " w-Withdraw \n",
      " e-Exit\n",
      "Choose your option :d\n",
      "Enter amount :50000\n",
      "Balance after deposit : 50000.0\n",
      "d-Deposite \n",
      " w-Withdraw \n",
      " e-Exit\n",
      "Choose your option :w\n",
      "Enter amount :30000\n",
      "Balance after withdrawel : 20000.0\n",
      "d-Deposite \n",
      " w-Withdraw \n",
      " e-Exit\n",
      "Choose your option :e\n",
      "Thanks for Banking :\n"
     ]
    },
    {
     "ename": "SystemExit",
     "evalue": "",
     "output_type": "error",
     "traceback": [
      "An exception has occurred, use %tb to see the full traceback.\n",
      "\u001b[1;31mSystemExit\u001b[0m\n"
     ]
    }
   ],
   "source": [
    "import sys\n",
    "class customer:\n",
    "  \"\"\"customer class with bank operations :\"\"\"\n",
    "  bankname=\"PythonBank\"\n",
    "  def __init__(self,name,balance=0.0):\n",
    "    self.name=name\n",
    "    self.balance=balance\n",
    "  def deposit(self,amt):\n",
    "    self.balance=self.balance+amt\n",
    "    print(\"Balance after deposit :\",self.balance)\n",
    "  def withdraw(self,amt):\n",
    "    if amt>self.balance:\n",
    "      print(\"insufficient funds : cannot perform operations\")\n",
    "      sys.exit()\n",
    "    self.balance=self.balance-amt\n",
    "    print(\"Balance after withdrawel :\",self.balance)\n",
    "print(\"Welcome to : \",customer.bankname)\n",
    "name=input(\"Enter your name\")\n",
    "c=customer(name)\n",
    "while True:\n",
    "  print('d-Deposite \\n w-Withdraw \\n e-Exit')\n",
    "  option = input(\"Choose your option :\")\n",
    "  if option =='d' or option =='D':\n",
    "    amt=float(input(\"Enter amount :\"))\n",
    "    c.deposit(amt)\n",
    "  elif option=='w' or option =='W':\n",
    "    amt=float(input(\"Enter amount :\"))\n",
    "    c.withdraw(amt)\n",
    "  elif option =='e' or option =='E':\n",
    "    print(\"Thanks for Banking :\")\n",
    "    sys.exit()\n",
    "  else:\n",
    "    print(\"Invalid option plz enter valid option :\")"
   ]
  },
  {
   "cell_type": "code",
   "execution_count": null,
   "id": "1c73ac38",
   "metadata": {},
   "outputs": [],
   "source": []
  }
 ],
 "metadata": {
  "kernelspec": {
   "display_name": "Python 3 (ipykernel)",
   "language": "python",
   "name": "python3"
  },
  "language_info": {
   "codemirror_mode": {
    "name": "ipython",
    "version": 3
   },
   "file_extension": ".py",
   "mimetype": "text/x-python",
   "name": "python",
   "nbconvert_exporter": "python",
   "pygments_lexer": "ipython3",
   "version": "3.11.3"
  }
 },
 "nbformat": 4,
 "nbformat_minor": 5
}
